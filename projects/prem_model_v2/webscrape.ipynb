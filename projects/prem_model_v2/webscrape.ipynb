{
 "cells": [
  {
   "cell_type": "markdown",
   "id": "cf592a2a",
   "metadata": {},
   "source": [
    "### Scrape PL Data From Multiple Seasons"
   ]
  },
  {
   "cell_type": "code",
   "execution_count": 1,
   "id": "9d24cc9d",
   "metadata": {},
   "outputs": [],
   "source": [
    "import time\n",
    "import cloudscraper\n",
    "from bs4 import BeautifulSoup\n",
    "import pandas as pd"
   ]
  },
  {
   "cell_type": "code",
   "execution_count": 2,
   "id": "0084f012",
   "metadata": {},
   "outputs": [],
   "source": [
    "scraper = cloudscraper.create_scraper()"
   ]
  },
  {
   "cell_type": "code",
   "execution_count": 3,
   "id": "21865d4b",
   "metadata": {},
   "outputs": [],
   "source": [
    "years = list(range(2025, 2022, -1)) # get previous three seasons\n",
    "all_matches = [] # store match DFs in a list\n",
    "standings_url = \"https://fbref.com/en/comps/9/Premier-League-Stats\""
   ]
  },
  {
   "cell_type": "code",
   "execution_count": null,
   "id": "defd08df",
   "metadata": {},
   "outputs": [],
   "source": [
    "for year in years:\n",
    "\n",
    "    # Get the standings table from fbref.com\n",
    "    data = scraper.get(standings_url) # get the url for page with PL table\n",
    "    soup = BeautifulSoup(data.text) # parse through html with bs4 library\n",
    "    time.sleep(5) # sleep for 5 second to prevent webpage denying access for bot suspicsion \n",
    "    standings_table = soup.select('table.stats_table')[0] # grab first table instance on page (table_class.name_of_table)\n",
    "\n",
    "    # Look for Individual team links in table\n",
    "    links = standings_table.find_all('a') \n",
    "    links = [l.get(\"href\") for l in links] \n",
    "    links = [l for l in links if '/squads' in l]\n",
    "    team_urls = [f\"https://fbref.com{l}\" for l in links]\n",
    "\n",
    "    # Extract match stats using Pandas and CloudScraper\n",
    "    team_url = team_urls[0] \n",
    "    match_data = scraper.get_(team_url) # Get html from team page now\n",
    "    matches = pd.read_html(match_data.text, match = \"Scores & Fixtures\")[0] # Look for the Scores & Fixtures table\n",
    "\n",
    "    # Get match and shooting stats\n",
    "    soup = BeautifulSoup(match_data.text)\n",
    "    links = soup.find_all('a')\n",
    "    links = [l.get(\"href\") for l in links]\n",
    "    links = [l for l in links if l and \"all_comps/shooting/\" in l]\n",
    "    shooting_data = scraper.get(f\"https://fbref.com/{links[0]}\") # download shooting stats\n",
    "    shooting = pd.read_html(shooting_data.text, match=\"Shooting\")[0]\n",
    "\n",
    "    # Clean and merge scraped data\n",
    "    shooting.columns = shooting.columns.droplevel() # drop index level se we can filter based on columns\n",
    "\n",
    "    try: # shooting data may be empty for some teams\n",
    "        team_data = matches.merge(shooting_data[\"Date\", \"Sh\", \"SoT\", \"Dist\", \"FK\", \"PK\", \"PKatt\"])\n",
    "    except ValueError:\n",
    "        continue # ignore team\n",
    "    \n",
    "\n",
    "    previous_season = soup.select(\"a.prev\")[0].get(\"href\")\n"
   ]
  },
  {
   "cell_type": "markdown",
   "id": "22a617a0",
   "metadata": {},
   "source": [
    "### Testing"
   ]
  },
  {
   "cell_type": "code",
   "execution_count": 5,
   "id": "85fe6cdc",
   "metadata": {},
   "outputs": [],
   "source": [
    "data = scraper.get(standings_url) \n",
    "soup = BeautifulSoup(data.text) \n",
    "time.sleep(5) \n",
    "standings_table = soup.select('table.stats_table')[0]\n",
    "\n",
    "# Look for Individual team links in table\n",
    "links = standings_table.find_all('a')\n",
    "links = [l.get(\"href\") for l in links]\n",
    "links = [l for l in links if '/squads/' in l]"
   ]
  },
  {
   "cell_type": "code",
   "execution_count": 6,
   "id": "e57e8c38",
   "metadata": {},
   "outputs": [
    {
     "data": {
      "text/plain": [
       "['https://fbref.com/en/squads/822bd0ba/Liverpool-Stats',\n",
       " 'https://fbref.com/en/squads/18bb7c10/Arsenal-Stats',\n",
       " 'https://fbref.com/en/squads/b8fd03ef/Manchester-City-Stats',\n",
       " 'https://fbref.com/en/squads/cff3d9bb/Chelsea-Stats',\n",
       " 'https://fbref.com/en/squads/b2b47a98/Newcastle-United-Stats',\n",
       " 'https://fbref.com/en/squads/8602292d/Aston-Villa-Stats',\n",
       " 'https://fbref.com/en/squads/e4a775cb/Nottingham-Forest-Stats',\n",
       " 'https://fbref.com/en/squads/d07537b9/Brighton-and-Hove-Albion-Stats',\n",
       " 'https://fbref.com/en/squads/4ba7cbea/Bournemouth-Stats',\n",
       " 'https://fbref.com/en/squads/cd051869/Brentford-Stats',\n",
       " 'https://fbref.com/en/squads/fd962109/Fulham-Stats',\n",
       " 'https://fbref.com/en/squads/47c64c55/Crystal-Palace-Stats',\n",
       " 'https://fbref.com/en/squads/d3fd31cc/Everton-Stats',\n",
       " 'https://fbref.com/en/squads/7c21e445/West-Ham-United-Stats',\n",
       " 'https://fbref.com/en/squads/19538871/Manchester-United-Stats',\n",
       " 'https://fbref.com/en/squads/8cec06e1/Wolverhampton-Wanderers-Stats',\n",
       " 'https://fbref.com/en/squads/361ca564/Tottenham-Hotspur-Stats',\n",
       " 'https://fbref.com/en/squads/a2d435b3/Leicester-City-Stats',\n",
       " 'https://fbref.com/en/squads/b74092de/Ipswich-Town-Stats',\n",
       " 'https://fbref.com/en/squads/33c895d4/Southampton-Stats']"
      ]
     },
     "execution_count": 6,
     "metadata": {},
     "output_type": "execute_result"
    }
   ],
   "source": [
    "team_urls = [f\"https://fbref.com{l}\" for l in links]\n",
    "team_urls"
   ]
  },
  {
   "cell_type": "code",
   "execution_count": 7,
   "id": "7d969519",
   "metadata": {},
   "outputs": [
    {
     "name": "stderr",
     "output_type": "stream",
     "text": [
      "/var/folders/tt/2_m00d395634x0tmf3cx3b440000gn/T/ipykernel_98278/2318464549.py:3: FutureWarning: Passing literal html to 'read_html' is deprecated and will be removed in a future version. To read from a literal string, wrap it in a 'StringIO' object.\n",
      "  matches = pd.read_html(match_data.text, match = \"Scores & Fixtures\")[0]\n"
     ]
    },
    {
     "data": {
      "text/html": [
       "<div>\n",
       "<style scoped>\n",
       "    .dataframe tbody tr th:only-of-type {\n",
       "        vertical-align: middle;\n",
       "    }\n",
       "\n",
       "    .dataframe tbody tr th {\n",
       "        vertical-align: top;\n",
       "    }\n",
       "\n",
       "    .dataframe thead th {\n",
       "        text-align: right;\n",
       "    }\n",
       "</style>\n",
       "<table border=\"1\" class=\"dataframe\">\n",
       "  <thead>\n",
       "    <tr style=\"text-align: right;\">\n",
       "      <th></th>\n",
       "      <th>Date</th>\n",
       "      <th>Time</th>\n",
       "      <th>Comp</th>\n",
       "      <th>Round</th>\n",
       "      <th>Day</th>\n",
       "      <th>Venue</th>\n",
       "      <th>Result</th>\n",
       "      <th>GF</th>\n",
       "      <th>GA</th>\n",
       "      <th>Opponent</th>\n",
       "      <th>xG</th>\n",
       "      <th>xGA</th>\n",
       "      <th>Poss</th>\n",
       "      <th>Attendance</th>\n",
       "      <th>Captain</th>\n",
       "      <th>Formation</th>\n",
       "      <th>Opp Formation</th>\n",
       "      <th>Referee</th>\n",
       "      <th>Match Report</th>\n",
       "      <th>Notes</th>\n",
       "    </tr>\n",
       "  </thead>\n",
       "  <tbody>\n",
       "    <tr>\n",
       "      <th>0</th>\n",
       "      <td>2024-08-17</td>\n",
       "      <td>12:30</td>\n",
       "      <td>Premier League</td>\n",
       "      <td>Matchweek 1</td>\n",
       "      <td>Sat</td>\n",
       "      <td>Away</td>\n",
       "      <td>W</td>\n",
       "      <td>2</td>\n",
       "      <td>0</td>\n",
       "      <td>Ipswich Town</td>\n",
       "      <td>2.6</td>\n",
       "      <td>0.5</td>\n",
       "      <td>62.0</td>\n",
       "      <td>30014.0</td>\n",
       "      <td>Virgil van Dijk</td>\n",
       "      <td>4-2-3-1</td>\n",
       "      <td>4-2-3-1</td>\n",
       "      <td>Tim Robinson</td>\n",
       "      <td>Match Report</td>\n",
       "      <td>NaN</td>\n",
       "    </tr>\n",
       "    <tr>\n",
       "      <th>1</th>\n",
       "      <td>2024-08-25</td>\n",
       "      <td>16:30</td>\n",
       "      <td>Premier League</td>\n",
       "      <td>Matchweek 2</td>\n",
       "      <td>Sun</td>\n",
       "      <td>Home</td>\n",
       "      <td>W</td>\n",
       "      <td>2</td>\n",
       "      <td>0</td>\n",
       "      <td>Brentford</td>\n",
       "      <td>2.5</td>\n",
       "      <td>0.5</td>\n",
       "      <td>62.0</td>\n",
       "      <td>60017.0</td>\n",
       "      <td>Virgil van Dijk</td>\n",
       "      <td>4-2-3-1</td>\n",
       "      <td>4-4-2</td>\n",
       "      <td>Stuart Attwell</td>\n",
       "      <td>Match Report</td>\n",
       "      <td>NaN</td>\n",
       "    </tr>\n",
       "    <tr>\n",
       "      <th>2</th>\n",
       "      <td>2024-09-01</td>\n",
       "      <td>16:00</td>\n",
       "      <td>Premier League</td>\n",
       "      <td>Matchweek 3</td>\n",
       "      <td>Sun</td>\n",
       "      <td>Away</td>\n",
       "      <td>W</td>\n",
       "      <td>3</td>\n",
       "      <td>0</td>\n",
       "      <td>Manchester Utd</td>\n",
       "      <td>1.8</td>\n",
       "      <td>1.4</td>\n",
       "      <td>47.0</td>\n",
       "      <td>73738.0</td>\n",
       "      <td>Virgil van Dijk</td>\n",
       "      <td>4-2-3-1</td>\n",
       "      <td>4-2-3-1</td>\n",
       "      <td>Anthony Taylor</td>\n",
       "      <td>Match Report</td>\n",
       "      <td>NaN</td>\n",
       "    </tr>\n",
       "    <tr>\n",
       "      <th>3</th>\n",
       "      <td>2024-09-14</td>\n",
       "      <td>15:00</td>\n",
       "      <td>Premier League</td>\n",
       "      <td>Matchweek 4</td>\n",
       "      <td>Sat</td>\n",
       "      <td>Home</td>\n",
       "      <td>L</td>\n",
       "      <td>0</td>\n",
       "      <td>1</td>\n",
       "      <td>Nott'ham Forest</td>\n",
       "      <td>0.9</td>\n",
       "      <td>0.4</td>\n",
       "      <td>68.0</td>\n",
       "      <td>60344.0</td>\n",
       "      <td>Virgil van Dijk</td>\n",
       "      <td>4-2-3-1</td>\n",
       "      <td>4-2-3-1</td>\n",
       "      <td>Michael Oliver</td>\n",
       "      <td>Match Report</td>\n",
       "      <td>NaN</td>\n",
       "    </tr>\n",
       "    <tr>\n",
       "      <th>4</th>\n",
       "      <td>2024-09-17</td>\n",
       "      <td>21:00</td>\n",
       "      <td>Champions Lg</td>\n",
       "      <td>League phase</td>\n",
       "      <td>Tue</td>\n",
       "      <td>Away</td>\n",
       "      <td>W</td>\n",
       "      <td>3</td>\n",
       "      <td>1</td>\n",
       "      <td>it Milan</td>\n",
       "      <td>3.1</td>\n",
       "      <td>0.6</td>\n",
       "      <td>51.0</td>\n",
       "      <td>59826.0</td>\n",
       "      <td>Virgil van Dijk</td>\n",
       "      <td>4-2-3-1</td>\n",
       "      <td>4-2-3-1</td>\n",
       "      <td>Espen Eskås</td>\n",
       "      <td>Match Report</td>\n",
       "      <td>NaN</td>\n",
       "    </tr>\n",
       "  </tbody>\n",
       "</table>\n",
       "</div>"
      ],
      "text/plain": [
       "         Date   Time            Comp         Round  Day Venue Result GF GA  \\\n",
       "0  2024-08-17  12:30  Premier League   Matchweek 1  Sat  Away      W  2  0   \n",
       "1  2024-08-25  16:30  Premier League   Matchweek 2  Sun  Home      W  2  0   \n",
       "2  2024-09-01  16:00  Premier League   Matchweek 3  Sun  Away      W  3  0   \n",
       "3  2024-09-14  15:00  Premier League   Matchweek 4  Sat  Home      L  0  1   \n",
       "4  2024-09-17  21:00    Champions Lg  League phase  Tue  Away      W  3  1   \n",
       "\n",
       "          Opponent   xG  xGA  Poss  Attendance          Captain Formation  \\\n",
       "0     Ipswich Town  2.6  0.5  62.0     30014.0  Virgil van Dijk   4-2-3-1   \n",
       "1        Brentford  2.5  0.5  62.0     60017.0  Virgil van Dijk   4-2-3-1   \n",
       "2   Manchester Utd  1.8  1.4  47.0     73738.0  Virgil van Dijk   4-2-3-1   \n",
       "3  Nott'ham Forest  0.9  0.4  68.0     60344.0  Virgil van Dijk   4-2-3-1   \n",
       "4         it Milan  3.1  0.6  51.0     59826.0  Virgil van Dijk   4-2-3-1   \n",
       "\n",
       "  Opp Formation         Referee  Match Report Notes  \n",
       "0       4-2-3-1    Tim Robinson  Match Report   NaN  \n",
       "1         4-4-2  Stuart Attwell  Match Report   NaN  \n",
       "2       4-2-3-1  Anthony Taylor  Match Report   NaN  \n",
       "3       4-2-3-1  Michael Oliver  Match Report   NaN  \n",
       "4       4-2-3-1     Espen Eskås  Match Report   NaN  "
      ]
     },
     "execution_count": 7,
     "metadata": {},
     "output_type": "execute_result"
    }
   ],
   "source": [
    "team_url = team_urls[0] \n",
    "match_data = scraper.get(team_url)\n",
    "matches = pd.read_html(match_data.text, match = \"Scores & Fixtures\")[0]\n",
    "matches.head()"
   ]
  },
  {
   "cell_type": "code",
   "execution_count": 17,
   "id": "9fd65fed",
   "metadata": {},
   "outputs": [
    {
     "data": {
      "text/plain": [
       "'/en/squads/822bd0ba/2024-2025/matchlogs/all_comps/shooting/Liverpool-Match-Logs-All-Competitions'"
      ]
     },
     "execution_count": 17,
     "metadata": {},
     "output_type": "execute_result"
    }
   ],
   "source": [
    "soup = BeautifulSoup(match_data.text)\n",
    "links = soup.find_all(\"a\")\n",
    "links = [l.get(\"href\") for l in links]\n",
    "links = [l for l in links if l and \"all_comps/shooting/\" in l]\n",
    "# shooting_data = scraper.get(f\"https://fbref.com/{links[0]}\")\n",
    "# shooting = pd.read_html(shooting_data.text, match = \"Shooting\")[0]\n",
    "# shooting.head()\n",
    "links[0]"
   ]
  },
  {
   "cell_type": "code",
   "execution_count": null,
   "id": "fc7430b0",
   "metadata": {},
   "outputs": [],
   "source": [
    "0"
   ]
  }
 ],
 "metadata": {
  "kernelspec": {
   "display_name": "machine-learning",
   "language": "python",
   "name": "python3"
  },
  "language_info": {
   "codemirror_mode": {
    "name": "ipython",
    "version": 3
   },
   "file_extension": ".py",
   "mimetype": "text/x-python",
   "name": "python",
   "nbconvert_exporter": "python",
   "pygments_lexer": "ipython3",
   "version": "3.12.4"
  }
 },
 "nbformat": 4,
 "nbformat_minor": 5
}
