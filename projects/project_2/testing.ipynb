{
 "cells": [
  {
   "cell_type": "code",
   "execution_count": 1,
   "metadata": {},
   "outputs": [],
   "source": [
    "filename = \"samples/letter0.txt\""
   ]
  },
  {
   "cell_type": "code",
   "execution_count": 2,
   "metadata": {},
   "outputs": [
    {
     "name": "stdout",
     "output_type": "stream",
     "text": [
      "{'A': 4, 'B': 2, 'C': 2, 'D': 2, 'E': 5, 'F': 2, 'G': 1, 'H': 2, 'I': 7, 'J': 0, 'K': 0, 'L': 4, 'M': 0, 'N': 5, 'O': 3, 'P': 1, 'Q': 0, 'R': 2, 'S': 3, 'T': 4, 'U': 1, 'V': 0, 'W': 0, 'X': 0, 'Y': 1, 'Z': 0}\n"
     ]
    }
   ],
   "source": [
    "import string\n",
    "X = {char: 0 for char in string.ascii_uppercase}\n",
    "with open (filename, encoding='utf-8') as f:\n",
    "    for line in f:\n",
    "        for char in line:\n",
    "            if char.isalpha():\n",
    "                char = char.upper()\n",
    "                if char in X:\n",
    "                    X[char] += 1\n",
    "                else:\n",
    "                    X[char] = 1\n",
    "\n",
    "alphabet_vector = {key: value for key, value in sorted(X.items())}  \n",
    "print(alphabet_vector)\n"
   ]
  },
  {
   "cell_type": "code",
   "execution_count": 3,
   "metadata": {},
   "outputs": [],
   "source": [
    "def shred(filename):\n",
    "    #Using a dictionary here. You may change this to any data structure of\n",
    "    #your choice such as lists (X=[]) etc. for the assignment\n",
    "    X={char: 0 for char in string.ascii_uppercase}\n",
    "    with open (filename,encoding='utf-8') as f:\n",
    "        # TODO: add your code here\n",
    "        for line in f:\n",
    "            for char in line:\n",
    "                if char.isalpha():\n",
    "                    char = char.upper()\n",
    "                    if char in X:\n",
    "                        X[char] += 1\n",
    "                    else:\n",
    "                        X[char] = 1\n",
    "\n",
    "    alphabet_vector = {key: value for key, value in sorted(X.items())}  \n",
    "              \n",
    "\n",
    "    return alphabet_vector"
   ]
  },
  {
   "cell_type": "code",
   "execution_count": 4,
   "metadata": {},
   "outputs": [
    {
     "name": "stdout",
     "output_type": "stream",
     "text": [
      "Q1\n",
      "{'A': 4, 'B': 2, 'C': 2, 'D': 2, 'E': 5, 'F': 2, 'G': 1, 'H': 2, 'I': 7, 'J': 0, 'K': 0, 'L': 4, 'M': 0, 'N': 5, 'O': 3, 'P': 1, 'Q': 0, 'R': 2, 'S': 3, 'T': 4, 'U': 1, 'V': 0, 'W': 0, 'X': 0, 'Y': 1, 'Z': 0}\n"
     ]
    }
   ],
   "source": [
    "print(\"Q1\")\n",
    "print(shred(\"samples/letter0.txt\"))"
   ]
  },
  {
   "cell_type": "code",
   "execution_count": 5,
   "metadata": {},
   "outputs": [
    {
     "name": "stdout",
     "output_type": "stream",
     "text": [
      "A 4\n",
      "B 2\n",
      "C 2\n",
      "D 2\n",
      "E 5\n",
      "F 2\n",
      "G 1\n",
      "H 2\n",
      "I 7\n",
      "J 0\n",
      "K 0\n",
      "L 4\n",
      "M 0\n",
      "N 5\n",
      "O 3\n",
      "P 1\n",
      "Q 0\n",
      "R 2\n",
      "S 3\n",
      "T 4\n",
      "U 1\n",
      "V 0\n",
      "W 0\n",
      "X 0\n",
      "Y 1\n",
      "Z 0\n"
     ]
    }
   ],
   "source": [
    "for key in alphabet_vector:\n",
    "    print(key, alphabet_vector[key])"
   ]
  },
  {
   "cell_type": "code",
   "execution_count": 6,
   "metadata": {},
   "outputs": [
    {
     "data": {
      "text/plain": [
       "{'A': 4,\n",
       " 'B': 2,\n",
       " 'C': 2,\n",
       " 'D': 2,\n",
       " 'E': 5,\n",
       " 'F': 2,\n",
       " 'G': 1,\n",
       " 'H': 2,\n",
       " 'I': 7,\n",
       " 'J': 0,\n",
       " 'K': 0,\n",
       " 'L': 4,\n",
       " 'M': 0,\n",
       " 'N': 5,\n",
       " 'O': 3,\n",
       " 'P': 1,\n",
       " 'Q': 0,\n",
       " 'R': 2,\n",
       " 'S': 3,\n",
       " 'T': 4,\n",
       " 'U': 1,\n",
       " 'V': 0,\n",
       " 'W': 0,\n",
       " 'X': 0,\n",
       " 'Y': 1,\n",
       " 'Z': 0}"
      ]
     },
     "execution_count": 6,
     "metadata": {},
     "output_type": "execute_result"
    }
   ],
   "source": [
    "alphabet_vector"
   ]
  },
  {
   "cell_type": "code",
   "execution_count": 7,
   "metadata": {},
   "outputs": [
    {
     "name": "stdout",
     "output_type": "stream",
     "text": [
      "-147.8619014706428\n"
     ]
    }
   ],
   "source": [
    "import math\n",
    "file = 'e.txt'\n",
    "prob_list = []\n",
    "values_list = list(alphabet_vector.values())\n",
    "F = math.log(0.6)\n",
    "\n",
    "with open (file, encoding = 'utf-8') as f:\n",
    "    for line in f:\n",
    "        prob_list.append(float(line[1:]))\n",
    "    for i in range(len(alphabet_vector)):\n",
    "        F += values_list[i] * math.log(float(prob_list[i]))\n",
    "\n",
    "# print(prob_list)\n",
    "# print(values_list)\n",
    "print(F)\n"
   ]
  },
  {
   "cell_type": "code",
   "execution_count": 8,
   "metadata": {},
   "outputs": [
    {
     "data": {
      "text/plain": [
       "-9.93442837830314"
      ]
     },
     "execution_count": 8,
     "metadata": {},
     "output_type": "execute_result"
    }
   ],
   "source": [
    "values_list = list(alphabet_vector.values())\n",
    "values_list[0]*math.log(prob_list[0])"
   ]
  },
  {
   "cell_type": "code",
   "execution_count": 11,
   "metadata": {},
   "outputs": [
    {
     "data": {
      "text/plain": [
       "-9.93442837830314"
      ]
     },
     "execution_count": 11,
     "metadata": {},
     "output_type": "execute_result"
    }
   ],
   "source": [
    "prob_list = []\n",
    "with open (file='e.txt', encoding = 'utf-8') as f:\n",
    "    for line in f:\n",
    "        prob_list.append(float(line[1:]))\n",
    "values_list = list(shred('samples/letter0.txt').values())\n",
    "values_list[0]*math.log(prob_list[0])"
   ]
  },
  {
   "cell_type": "code",
   "execution_count": 15,
   "metadata": {},
   "outputs": [
    {
     "name": "stdout",
     "output_type": "stream",
     "text": [
      "-147.8619\n"
     ]
    }
   ],
   "source": [
    "def F(vector, file, prior):\n",
    "    prob_list = []\n",
    "    values_list = list(vector.values())\n",
    "    F = math.log(prior)\n",
    "\n",
    "    with open (file, encoding = 'utf-8') as f:\n",
    "        for line in f:\n",
    "            prob_list.append(float(line[1:]))\n",
    "        for i in range(len(vector)):\n",
    "            F += values_list[i] * math.log(float(prob_list[i]))\n",
    "    return f'{F:.4f}'\n",
    "\n",
    "vector = alphabet_vector \n",
    "file = 'e.txt'\n",
    "prior = 0.6\n",
    "\n",
    "print(F(vector=vector, file=file, prior=prior))\n"
   ]
  },
  {
   "cell_type": "code",
   "execution_count": 19,
   "metadata": {},
   "outputs": [
    {
     "data": {
      "text/plain": [
       "0.9894351314810338"
      ]
     },
     "execution_count": 19,
     "metadata": {},
     "output_type": "execute_result"
    }
   ],
   "source": [
    "1 / (1 + math.exp(float(F(vector=vector, file='s.txt', prior=0.4)) - float(F(vector=vector, file=file, prior=prior))))"
   ]
  },
  {
   "cell_type": "code",
   "execution_count": null,
   "metadata": {},
   "outputs": [],
   "source": []
  }
 ],
 "metadata": {
  "kernelspec": {
   "display_name": "Python 3",
   "language": "python",
   "name": "python3"
  },
  "language_info": {
   "codemirror_mode": {
    "name": "ipython",
    "version": 3
   },
   "file_extension": ".py",
   "mimetype": "text/x-python",
   "name": "python",
   "nbconvert_exporter": "python",
   "pygments_lexer": "ipython3",
   "version": "3.11.7"
  }
 },
 "nbformat": 4,
 "nbformat_minor": 2
}
